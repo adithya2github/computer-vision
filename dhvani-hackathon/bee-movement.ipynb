{
 "cells": [
  {
   "cell_type": "code",
   "execution_count": 3,
   "id": "7734e973-e777-446d-89e0-92ca30102dfb",
   "metadata": {},
   "outputs": [],
   "source": [
    "import numpy as np\n",
    "import matplotlib.pyplot as plt\n",
    "from matplotlib.animation import FuncAnimation\n",
    "from mpl_toolkits.mplot3d import Axes3D\n",
    "\n",
    "import matplotlib\n",
    "matplotlib.use('TkAgg')\n",
    "\n",
    "def dynamical_system(x, y, z, a, b, c, t, dt):\n",
    "    dx = a * (y - b) * dt\n",
    "    dy = (b - y - x) * dt\n",
    "    dz = (x - c) * dt\n",
    "    x += dx\n",
    "    y += dy\n",
    "    z += dz\n",
    "    return x, y, z\n",
    "\n",
    "# Initial values for x, y, z\n",
    "xo, yo, zo = 0, 1, 1.05\n",
    "# Parameters a, b, c\n",
    "a, b, c = 10, 28, 2.667\n",
    "# Time step size and total time\n",
    "dt, total_time = 0.01, 50\n",
    "# Number of time steps\n",
    "num_steps = int(total_time / dt)\n",
    "\n",
    "# Arrays to store the values of x, y, z over time\n",
    "x_vals, y_vals, z_vals = [xo], [yo], [zo]\n",
    "\n",
    "# Iterate over the number of time steps\n",
    "for i in range(num_steps):\n",
    "    x, y, z = dynamical_system(x_vals[-1], y_vals[-1], z_vals[-1], a, b, c, i*dt, dt)\n",
    "    x_vals.append(x)\n",
    "    y_vals.append(y)\n",
    "    z_vals.append(z)\n",
    "\n",
    "# Plot the path of the bee in 3D space\n",
    "fig = plt.figure()\n",
    "ax = fig.add_subplot(111, projection='3d')\n",
    "\n",
    "def animate(i):\n",
    "    ax.clear()\n",
    "    ax.set_xlabel('x')\n",
    "    ax.set_ylabel('y')\n",
    "    ax.set_zlabel('z')\n",
    "    ax.plot(x_vals[:i], y_vals[:i], z_vals[:i])\n",
    "\n",
    "ani = FuncAnimation(fig, animate, frames=num_steps, interval=1)\n",
    "plt.show()\n"
   ]
  },
  {
   "cell_type": "code",
   "execution_count": null,
   "id": "141508df-78a9-4c63-a5c9-798695cfc44f",
   "metadata": {},
   "outputs": [],
   "source": []
  }
 ],
 "metadata": {
  "kernelspec": {
   "display_name": "Python 3 (ipykernel)",
   "language": "python",
   "name": "python3"
  },
  "language_info": {
   "codemirror_mode": {
    "name": "ipython",
    "version": 3
   },
   "file_extension": ".py",
   "mimetype": "text/x-python",
   "name": "python",
   "nbconvert_exporter": "python",
   "pygments_lexer": "ipython3",
   "version": "3.9.13"
  }
 },
 "nbformat": 4,
 "nbformat_minor": 5
}
